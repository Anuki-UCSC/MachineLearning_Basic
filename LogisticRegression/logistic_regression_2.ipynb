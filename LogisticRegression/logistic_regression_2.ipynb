
from sklearn, datasets import make_classification
from matplotlib import pyplot as plt 
from sklearn.lenear_model import LogisticRegression
From sklearn.model_selection import train_testsplit
from sklearn.metrix import confuion_matrix
