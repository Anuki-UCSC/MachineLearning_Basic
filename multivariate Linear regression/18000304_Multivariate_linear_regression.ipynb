{
  "nbformat": 4,
  "nbformat_minor": 0,
  "metadata": {
    "colab": {
      "name": "18000304_Multivariate_linear_regression",
      "provenance": []
    },
    "kernelspec": {
      "name": "python3",
      "display_name": "Python 3"
    },
    "language_info": {
      "name": "python"
    }
  },
  "cells": [
    {
      "cell_type": "code",
      "metadata": {
        "id": "qdyLQG-pEijB"
      },
      "source": [
        "%matplotlib inline\n",
        "from IPython.display import HTML\n",
        "import numpy as np\n",
        "import matplotlib.pyplot as plt\n",
        "import pandas as pd"
      ],
      "execution_count": null,
      "outputs": []
    },
    {
      "cell_type": "markdown",
      "metadata": {
        "id": "YX4ledweGHJI"
      },
      "source": [
        "Import data"
      ]
    },
    {
      "cell_type": "code",
      "metadata": {
        "colab": {
          "base_uri": "https://localhost:8080/",
          "height": 439
        },
        "id": "04F0U4gvF5LM",
        "outputId": "af28bf0f-dd4f-42e9-f424-cf2df82b512b"
      },
      "source": [
        "dataset=pd.read_csv(\"leaf.csv\")\n",
        "dataset"
      ],
      "execution_count": null,
      "outputs": [
        {
          "output_type": "execute_result",
          "data": {
            "text/html": [
              "<div>\n",
              "<style scoped>\n",
              "    .dataframe tbody tr th:only-of-type {\n",
              "        vertical-align: middle;\n",
              "    }\n",
              "\n",
              "    .dataframe tbody tr th {\n",
              "        vertical-align: top;\n",
              "    }\n",
              "\n",
              "    .dataframe thead th {\n",
              "        text-align: right;\n",
              "    }\n",
              "</style>\n",
              "<table border=\"1\" class=\"dataframe\">\n",
              "  <thead>\n",
              "    <tr style=\"text-align: right;\">\n",
              "      <th></th>\n",
              "      <th>1</th>\n",
              "      <th>1.1</th>\n",
              "      <th>0.72694</th>\n",
              "      <th>1.4742</th>\n",
              "      <th>0.32396</th>\n",
              "      <th>0.98535</th>\n",
              "      <th>1.2</th>\n",
              "      <th>0.83592</th>\n",
              "      <th>0.0046566</th>\n",
              "      <th>0.0039465</th>\n",
              "      <th>0.04779</th>\n",
              "      <th>0.12795</th>\n",
              "      <th>0.016108</th>\n",
              "      <th>0.0052323</th>\n",
              "      <th>0.00027477</th>\n",
              "      <th>1.1756</th>\n",
              "    </tr>\n",
              "  </thead>\n",
              "  <tbody>\n",
              "    <tr>\n",
              "      <th>0</th>\n",
              "      <td>1</td>\n",
              "      <td>2</td>\n",
              "      <td>0.74173</td>\n",
              "      <td>1.5257</td>\n",
              "      <td>0.36116</td>\n",
              "      <td>0.98152</td>\n",
              "      <td>0.99825</td>\n",
              "      <td>0.798670</td>\n",
              "      <td>0.005242</td>\n",
              "      <td>0.005002</td>\n",
              "      <td>0.024160</td>\n",
              "      <td>0.090476</td>\n",
              "      <td>0.008119</td>\n",
              "      <td>0.002708</td>\n",
              "      <td>0.000075</td>\n",
              "      <td>0.69659</td>\n",
              "    </tr>\n",
              "    <tr>\n",
              "      <th>1</th>\n",
              "      <td>1</td>\n",
              "      <td>3</td>\n",
              "      <td>0.76722</td>\n",
              "      <td>1.5725</td>\n",
              "      <td>0.38998</td>\n",
              "      <td>0.97755</td>\n",
              "      <td>1.00000</td>\n",
              "      <td>0.808120</td>\n",
              "      <td>0.007457</td>\n",
              "      <td>0.010121</td>\n",
              "      <td>0.011897</td>\n",
              "      <td>0.057445</td>\n",
              "      <td>0.003289</td>\n",
              "      <td>0.000921</td>\n",
              "      <td>0.000038</td>\n",
              "      <td>0.44348</td>\n",
              "    </tr>\n",
              "    <tr>\n",
              "      <th>2</th>\n",
              "      <td>1</td>\n",
              "      <td>4</td>\n",
              "      <td>0.73797</td>\n",
              "      <td>1.4597</td>\n",
              "      <td>0.35376</td>\n",
              "      <td>0.97566</td>\n",
              "      <td>1.00000</td>\n",
              "      <td>0.816970</td>\n",
              "      <td>0.006877</td>\n",
              "      <td>0.008607</td>\n",
              "      <td>0.015950</td>\n",
              "      <td>0.065491</td>\n",
              "      <td>0.004271</td>\n",
              "      <td>0.001154</td>\n",
              "      <td>0.000066</td>\n",
              "      <td>0.58785</td>\n",
              "    </tr>\n",
              "    <tr>\n",
              "      <th>3</th>\n",
              "      <td>1</td>\n",
              "      <td>5</td>\n",
              "      <td>0.82301</td>\n",
              "      <td>1.7707</td>\n",
              "      <td>0.44462</td>\n",
              "      <td>0.97698</td>\n",
              "      <td>1.00000</td>\n",
              "      <td>0.754930</td>\n",
              "      <td>0.007428</td>\n",
              "      <td>0.010042</td>\n",
              "      <td>0.007938</td>\n",
              "      <td>0.045339</td>\n",
              "      <td>0.002051</td>\n",
              "      <td>0.000560</td>\n",
              "      <td>0.000024</td>\n",
              "      <td>0.34214</td>\n",
              "    </tr>\n",
              "    <tr>\n",
              "      <th>4</th>\n",
              "      <td>1</td>\n",
              "      <td>6</td>\n",
              "      <td>0.72997</td>\n",
              "      <td>1.4892</td>\n",
              "      <td>0.34284</td>\n",
              "      <td>0.98755</td>\n",
              "      <td>1.00000</td>\n",
              "      <td>0.844820</td>\n",
              "      <td>0.004945</td>\n",
              "      <td>0.004451</td>\n",
              "      <td>0.010487</td>\n",
              "      <td>0.058528</td>\n",
              "      <td>0.003414</td>\n",
              "      <td>0.001125</td>\n",
              "      <td>0.000025</td>\n",
              "      <td>0.34068</td>\n",
              "    </tr>\n",
              "    <tr>\n",
              "      <th>...</th>\n",
              "      <td>...</td>\n",
              "      <td>...</td>\n",
              "      <td>...</td>\n",
              "      <td>...</td>\n",
              "      <td>...</td>\n",
              "      <td>...</td>\n",
              "      <td>...</td>\n",
              "      <td>...</td>\n",
              "      <td>...</td>\n",
              "      <td>...</td>\n",
              "      <td>...</td>\n",
              "      <td>...</td>\n",
              "      <td>...</td>\n",
              "      <td>...</td>\n",
              "      <td>...</td>\n",
              "      <td>...</td>\n",
              "    </tr>\n",
              "    <tr>\n",
              "      <th>334</th>\n",
              "      <td>36</td>\n",
              "      <td>6</td>\n",
              "      <td>0.37522</td>\n",
              "      <td>1.1417</td>\n",
              "      <td>0.81725</td>\n",
              "      <td>0.68511</td>\n",
              "      <td>0.58772</td>\n",
              "      <td>0.125230</td>\n",
              "      <td>0.091860</td>\n",
              "      <td>1.535800</td>\n",
              "      <td>0.114880</td>\n",
              "      <td>0.208610</td>\n",
              "      <td>0.041703</td>\n",
              "      <td>0.013344</td>\n",
              "      <td>0.000820</td>\n",
              "      <td>2.02810</td>\n",
              "    </tr>\n",
              "    <tr>\n",
              "      <th>335</th>\n",
              "      <td>36</td>\n",
              "      <td>7</td>\n",
              "      <td>0.28064</td>\n",
              "      <td>1.0849</td>\n",
              "      <td>0.75319</td>\n",
              "      <td>0.72152</td>\n",
              "      <td>0.71404</td>\n",
              "      <td>0.136860</td>\n",
              "      <td>0.078996</td>\n",
              "      <td>1.135800</td>\n",
              "      <td>0.141220</td>\n",
              "      <td>0.218300</td>\n",
              "      <td>0.045488</td>\n",
              "      <td>0.012002</td>\n",
              "      <td>0.001515</td>\n",
              "      <td>2.40590</td>\n",
              "    </tr>\n",
              "    <tr>\n",
              "      <th>336</th>\n",
              "      <td>36</td>\n",
              "      <td>8</td>\n",
              "      <td>0.35344</td>\n",
              "      <td>1.0329</td>\n",
              "      <td>0.78147</td>\n",
              "      <td>0.70737</td>\n",
              "      <td>0.61579</td>\n",
              "      <td>0.135030</td>\n",
              "      <td>0.089763</td>\n",
              "      <td>1.466400</td>\n",
              "      <td>0.097663</td>\n",
              "      <td>0.207030</td>\n",
              "      <td>0.041101</td>\n",
              "      <td>0.016123</td>\n",
              "      <td>0.000453</td>\n",
              "      <td>1.69350</td>\n",
              "    </tr>\n",
              "    <tr>\n",
              "      <th>337</th>\n",
              "      <td>36</td>\n",
              "      <td>9</td>\n",
              "      <td>0.59988</td>\n",
              "      <td>1.1427</td>\n",
              "      <td>0.71532</td>\n",
              "      <td>0.66101</td>\n",
              "      <td>0.47544</td>\n",
              "      <td>0.157470</td>\n",
              "      <td>0.113370</td>\n",
              "      <td>2.339400</td>\n",
              "      <td>0.050389</td>\n",
              "      <td>0.135850</td>\n",
              "      <td>0.018121</td>\n",
              "      <td>0.006190</td>\n",
              "      <td>0.000265</td>\n",
              "      <td>1.15260</td>\n",
              "    </tr>\n",
              "    <tr>\n",
              "      <th>338</th>\n",
              "      <td>36</td>\n",
              "      <td>10</td>\n",
              "      <td>0.47195</td>\n",
              "      <td>1.0901</td>\n",
              "      <td>0.85409</td>\n",
              "      <td>0.53598</td>\n",
              "      <td>0.39649</td>\n",
              "      <td>0.078376</td>\n",
              "      <td>0.132270</td>\n",
              "      <td>3.184000</td>\n",
              "      <td>0.082007</td>\n",
              "      <td>0.187820</td>\n",
              "      <td>0.034074</td>\n",
              "      <td>0.013487</td>\n",
              "      <td>0.000329</td>\n",
              "      <td>1.56230</td>\n",
              "    </tr>\n",
              "  </tbody>\n",
              "</table>\n",
              "<p>339 rows × 16 columns</p>\n",
              "</div>"
            ],
            "text/plain": [
              "      1  1.1  0.72694  1.4742  ...  0.016108  0.0052323  0.00027477   1.1756\n",
              "0     1    2  0.74173  1.5257  ...  0.008119   0.002708    0.000075  0.69659\n",
              "1     1    3  0.76722  1.5725  ...  0.003289   0.000921    0.000038  0.44348\n",
              "2     1    4  0.73797  1.4597  ...  0.004271   0.001154    0.000066  0.58785\n",
              "3     1    5  0.82301  1.7707  ...  0.002051   0.000560    0.000024  0.34214\n",
              "4     1    6  0.72997  1.4892  ...  0.003414   0.001125    0.000025  0.34068\n",
              "..   ..  ...      ...     ...  ...       ...        ...         ...      ...\n",
              "334  36    6  0.37522  1.1417  ...  0.041703   0.013344    0.000820  2.02810\n",
              "335  36    7  0.28064  1.0849  ...  0.045488   0.012002    0.001515  2.40590\n",
              "336  36    8  0.35344  1.0329  ...  0.041101   0.016123    0.000453  1.69350\n",
              "337  36    9  0.59988  1.1427  ...  0.018121   0.006190    0.000265  1.15260\n",
              "338  36   10  0.47195  1.0901  ...  0.034074   0.013487    0.000329  1.56230\n",
              "\n",
              "[339 rows x 16 columns]"
            ]
          },
          "metadata": {
            "tags": []
          },
          "execution_count": 26
        }
      ]
    },
    {
      "cell_type": "code",
      "metadata": {
        "colab": {
          "base_uri": "https://localhost:8080/"
        },
        "id": "A8GvEDZAGxpf",
        "outputId": "7282557a-654b-4905-ec39-1e83e7e473a0"
      },
      "source": [
        "Y = dataset.iloc[:, 7]    \n",
        "Y.head()"
      ],
      "execution_count": null,
      "outputs": [
        {
          "output_type": "execute_result",
          "data": {
            "text/plain": [
              "0    37.9\n",
              "1    42.2\n",
              "2    47.3\n",
              "3    54.8\n",
              "4    43.1\n",
              "Name: Y house price of unit area, dtype: float64"
            ]
          },
          "metadata": {
            "tags": []
          },
          "execution_count": 11
        }
      ]
    },
    {
      "cell_type": "code",
      "metadata": {
        "colab": {
          "base_uri": "https://localhost:8080/",
          "height": 221
        },
        "id": "v-xzllXbHrCN",
        "outputId": "5d504d1f-d1e0-4963-c0c2-cc8b751c6183"
      },
      "source": [
        "X = dataset.drop(columns=[\"No\",\"X1 transaction date\",\"Y house price of unit area\"])\n",
        "X.head()"
      ],
      "execution_count": null,
      "outputs": [
        {
          "output_type": "execute_result",
          "data": {
            "text/html": [
              "<div>\n",
              "<style scoped>\n",
              "    .dataframe tbody tr th:only-of-type {\n",
              "        vertical-align: middle;\n",
              "    }\n",
              "\n",
              "    .dataframe tbody tr th {\n",
              "        vertical-align: top;\n",
              "    }\n",
              "\n",
              "    .dataframe thead th {\n",
              "        text-align: right;\n",
              "    }\n",
              "</style>\n",
              "<table border=\"1\" class=\"dataframe\">\n",
              "  <thead>\n",
              "    <tr style=\"text-align: right;\">\n",
              "      <th></th>\n",
              "      <th>X2 house age</th>\n",
              "      <th>X3 distance to the nearest MRT station</th>\n",
              "      <th>X4 number of convenience stores</th>\n",
              "      <th>X5 latitude</th>\n",
              "      <th>X6 longitude</th>\n",
              "    </tr>\n",
              "  </thead>\n",
              "  <tbody>\n",
              "    <tr>\n",
              "      <th>0</th>\n",
              "      <td>32.0</td>\n",
              "      <td>84.87882</td>\n",
              "      <td>10</td>\n",
              "      <td>24.98298</td>\n",
              "      <td>121.54024</td>\n",
              "    </tr>\n",
              "    <tr>\n",
              "      <th>1</th>\n",
              "      <td>19.5</td>\n",
              "      <td>306.59470</td>\n",
              "      <td>9</td>\n",
              "      <td>24.98034</td>\n",
              "      <td>121.53951</td>\n",
              "    </tr>\n",
              "    <tr>\n",
              "      <th>2</th>\n",
              "      <td>13.3</td>\n",
              "      <td>561.98450</td>\n",
              "      <td>5</td>\n",
              "      <td>24.98746</td>\n",
              "      <td>121.54391</td>\n",
              "    </tr>\n",
              "    <tr>\n",
              "      <th>3</th>\n",
              "      <td>13.3</td>\n",
              "      <td>561.98450</td>\n",
              "      <td>5</td>\n",
              "      <td>24.98746</td>\n",
              "      <td>121.54391</td>\n",
              "    </tr>\n",
              "    <tr>\n",
              "      <th>4</th>\n",
              "      <td>5.0</td>\n",
              "      <td>390.56840</td>\n",
              "      <td>5</td>\n",
              "      <td>24.97937</td>\n",
              "      <td>121.54245</td>\n",
              "    </tr>\n",
              "  </tbody>\n",
              "</table>\n",
              "</div>"
            ],
            "text/plain": [
              "   X2 house age  ...  X6 longitude\n",
              "0          32.0  ...     121.54024\n",
              "1          19.5  ...     121.53951\n",
              "2          13.3  ...     121.54391\n",
              "3          13.3  ...     121.54391\n",
              "4           5.0  ...     121.54245\n",
              "\n",
              "[5 rows x 5 columns]"
            ]
          },
          "metadata": {
            "tags": []
          },
          "execution_count": 12
        }
      ]
    },
    {
      "cell_type": "markdown",
      "metadata": {
        "id": "fnBj5OUIJCg5"
      },
      "source": [
        "Normalize "
      ]
    },
    {
      "cell_type": "code",
      "metadata": {
        "colab": {
          "base_uri": "https://localhost:8080/",
          "height": 419
        },
        "id": "ICbhcj2sMSR_",
        "outputId": "0e009699-e7b2-4f65-ed76-a99df30981c9"
      },
      "source": [
        "X.columns=range(X.shape[1])\n",
        "X"
      ],
      "execution_count": null,
      "outputs": [
        {
          "output_type": "execute_result",
          "data": {
            "text/html": [
              "<div>\n",
              "<style scoped>\n",
              "    .dataframe tbody tr th:only-of-type {\n",
              "        vertical-align: middle;\n",
              "    }\n",
              "\n",
              "    .dataframe tbody tr th {\n",
              "        vertical-align: top;\n",
              "    }\n",
              "\n",
              "    .dataframe thead th {\n",
              "        text-align: right;\n",
              "    }\n",
              "</style>\n",
              "<table border=\"1\" class=\"dataframe\">\n",
              "  <thead>\n",
              "    <tr style=\"text-align: right;\">\n",
              "      <th></th>\n",
              "      <th>0</th>\n",
              "      <th>1</th>\n",
              "      <th>2</th>\n",
              "      <th>3</th>\n",
              "      <th>4</th>\n",
              "    </tr>\n",
              "  </thead>\n",
              "  <tbody>\n",
              "    <tr>\n",
              "      <th>0</th>\n",
              "      <td>32.0</td>\n",
              "      <td>84.87882</td>\n",
              "      <td>10</td>\n",
              "      <td>24.98298</td>\n",
              "      <td>121.54024</td>\n",
              "    </tr>\n",
              "    <tr>\n",
              "      <th>1</th>\n",
              "      <td>19.5</td>\n",
              "      <td>306.59470</td>\n",
              "      <td>9</td>\n",
              "      <td>24.98034</td>\n",
              "      <td>121.53951</td>\n",
              "    </tr>\n",
              "    <tr>\n",
              "      <th>2</th>\n",
              "      <td>13.3</td>\n",
              "      <td>561.98450</td>\n",
              "      <td>5</td>\n",
              "      <td>24.98746</td>\n",
              "      <td>121.54391</td>\n",
              "    </tr>\n",
              "    <tr>\n",
              "      <th>3</th>\n",
              "      <td>13.3</td>\n",
              "      <td>561.98450</td>\n",
              "      <td>5</td>\n",
              "      <td>24.98746</td>\n",
              "      <td>121.54391</td>\n",
              "    </tr>\n",
              "    <tr>\n",
              "      <th>4</th>\n",
              "      <td>5.0</td>\n",
              "      <td>390.56840</td>\n",
              "      <td>5</td>\n",
              "      <td>24.97937</td>\n",
              "      <td>121.54245</td>\n",
              "    </tr>\n",
              "    <tr>\n",
              "      <th>...</th>\n",
              "      <td>...</td>\n",
              "      <td>...</td>\n",
              "      <td>...</td>\n",
              "      <td>...</td>\n",
              "      <td>...</td>\n",
              "    </tr>\n",
              "    <tr>\n",
              "      <th>249</th>\n",
              "      <td>18.0</td>\n",
              "      <td>6306.15300</td>\n",
              "      <td>1</td>\n",
              "      <td>24.95743</td>\n",
              "      <td>121.47516</td>\n",
              "    </tr>\n",
              "    <tr>\n",
              "      <th>250</th>\n",
              "      <td>39.2</td>\n",
              "      <td>424.71320</td>\n",
              "      <td>7</td>\n",
              "      <td>24.97429</td>\n",
              "      <td>121.53917</td>\n",
              "    </tr>\n",
              "    <tr>\n",
              "      <th>251</th>\n",
              "      <td>31.7</td>\n",
              "      <td>1159.45400</td>\n",
              "      <td>0</td>\n",
              "      <td>24.94960</td>\n",
              "      <td>121.53018</td>\n",
              "    </tr>\n",
              "    <tr>\n",
              "      <th>252</th>\n",
              "      <td>5.9</td>\n",
              "      <td>90.45606</td>\n",
              "      <td>9</td>\n",
              "      <td>24.97433</td>\n",
              "      <td>121.54310</td>\n",
              "    </tr>\n",
              "    <tr>\n",
              "      <th>253</th>\n",
              "      <td>30.4</td>\n",
              "      <td>1735.59500</td>\n",
              "      <td>2</td>\n",
              "      <td>24.96464</td>\n",
              "      <td>121.51623</td>\n",
              "    </tr>\n",
              "  </tbody>\n",
              "</table>\n",
              "<p>254 rows × 5 columns</p>\n",
              "</div>"
            ],
            "text/plain": [
              "        0           1   2         3          4\n",
              "0    32.0    84.87882  10  24.98298  121.54024\n",
              "1    19.5   306.59470   9  24.98034  121.53951\n",
              "2    13.3   561.98450   5  24.98746  121.54391\n",
              "3    13.3   561.98450   5  24.98746  121.54391\n",
              "4     5.0   390.56840   5  24.97937  121.54245\n",
              "..    ...         ...  ..       ...        ...\n",
              "249  18.0  6306.15300   1  24.95743  121.47516\n",
              "250  39.2   424.71320   7  24.97429  121.53917\n",
              "251  31.7  1159.45400   0  24.94960  121.53018\n",
              "252   5.9    90.45606   9  24.97433  121.54310\n",
              "253  30.4  1735.59500   2  24.96464  121.51623\n",
              "\n",
              "[254 rows x 5 columns]"
            ]
          },
          "metadata": {
            "tags": []
          },
          "execution_count": 13
        }
      ]
    },
    {
      "cell_type": "code",
      "metadata": {
        "colab": {
          "base_uri": "https://localhost:8080/",
          "height": 204
        },
        "id": "BBaK1Re2RRLx",
        "outputId": "589ff2ad-bc17-4c58-8513-374e5854c746"
      },
      "source": [
        "for i in range(1, len(X.columns)):\n",
        "    X[i-1] = X[i-1]/np.max(X[i-1])\n",
        "X.head()"
      ],
      "execution_count": null,
      "outputs": [
        {
          "output_type": "execute_result",
          "data": {
            "text/html": [
              "<div>\n",
              "<style scoped>\n",
              "    .dataframe tbody tr th:only-of-type {\n",
              "        vertical-align: middle;\n",
              "    }\n",
              "\n",
              "    .dataframe tbody tr th {\n",
              "        vertical-align: top;\n",
              "    }\n",
              "\n",
              "    .dataframe thead th {\n",
              "        text-align: right;\n",
              "    }\n",
              "</style>\n",
              "<table border=\"1\" class=\"dataframe\">\n",
              "  <thead>\n",
              "    <tr style=\"text-align: right;\">\n",
              "      <th></th>\n",
              "      <th>0</th>\n",
              "      <th>1</th>\n",
              "      <th>2</th>\n",
              "      <th>3</th>\n",
              "      <th>4</th>\n",
              "    </tr>\n",
              "  </thead>\n",
              "  <tbody>\n",
              "    <tr>\n",
              "      <th>0</th>\n",
              "      <td>0.730594</td>\n",
              "      <td>0.013270</td>\n",
              "      <td>1.0</td>\n",
              "      <td>0.998736</td>\n",
              "      <td>121.54024</td>\n",
              "    </tr>\n",
              "    <tr>\n",
              "      <th>1</th>\n",
              "      <td>0.445205</td>\n",
              "      <td>0.047933</td>\n",
              "      <td>0.9</td>\n",
              "      <td>0.998631</td>\n",
              "      <td>121.53951</td>\n",
              "    </tr>\n",
              "    <tr>\n",
              "      <th>2</th>\n",
              "      <td>0.303653</td>\n",
              "      <td>0.087861</td>\n",
              "      <td>0.5</td>\n",
              "      <td>0.998915</td>\n",
              "      <td>121.54391</td>\n",
              "    </tr>\n",
              "    <tr>\n",
              "      <th>3</th>\n",
              "      <td>0.303653</td>\n",
              "      <td>0.087861</td>\n",
              "      <td>0.5</td>\n",
              "      <td>0.998915</td>\n",
              "      <td>121.54391</td>\n",
              "    </tr>\n",
              "    <tr>\n",
              "      <th>4</th>\n",
              "      <td>0.114155</td>\n",
              "      <td>0.061062</td>\n",
              "      <td>0.5</td>\n",
              "      <td>0.998592</td>\n",
              "      <td>121.54245</td>\n",
              "    </tr>\n",
              "  </tbody>\n",
              "</table>\n",
              "</div>"
            ],
            "text/plain": [
              "          0         1    2         3          4\n",
              "0  0.730594  0.013270  1.0  0.998736  121.54024\n",
              "1  0.445205  0.047933  0.9  0.998631  121.53951\n",
              "2  0.303653  0.087861  0.5  0.998915  121.54391\n",
              "3  0.303653  0.087861  0.5  0.998915  121.54391\n",
              "4  0.114155  0.061062  0.5  0.998592  121.54245"
            ]
          },
          "metadata": {
            "tags": []
          },
          "execution_count": 14
        }
      ]
    },
    {
      "cell_type": "code",
      "metadata": {
        "id": "MCo4czz6U4uk"
      },
      "source": [
        "learning_rate = 0.0001\n",
        "num_iterations = 10"
      ],
      "execution_count": null,
      "outputs": []
    },
    {
      "cell_type": "code",
      "metadata": {
        "colab": {
          "base_uri": "https://localhost:8080/"
        },
        "id": "Umn0SNVVtmXC",
        "outputId": "6e24822d-b273-49d1-ac2e-cf5429851b2f"
      },
      "source": [
        "theta = np.array([0]*len(X.columns))\n",
        "theta"
      ],
      "execution_count": null,
      "outputs": [
        {
          "output_type": "execute_result",
          "data": {
            "text/plain": [
              "array([0, 0, 0, 0, 0])"
            ]
          },
          "metadata": {
            "tags": []
          },
          "execution_count": 16
        }
      ]
    },
    {
      "cell_type": "code",
      "metadata": {
        "colab": {
          "base_uri": "https://localhost:8080/"
        },
        "id": "-NCL7kXPuUho",
        "outputId": "8d4a87c1-b87f-464f-cace-cc8878479703"
      },
      "source": [
        "m = len(dataset)\n",
        "m"
      ],
      "execution_count": null,
      "outputs": [
        {
          "output_type": "execute_result",
          "data": {
            "text/plain": [
              "254"
            ]
          },
          "metadata": {
            "tags": []
          },
          "execution_count": 17
        }
      ]
    },
    {
      "cell_type": "code",
      "metadata": {
        "id": "lhthDxIH16n0"
      },
      "source": [
        "def hypothesis(theta, X):\n",
        "    return theta*X"
      ],
      "execution_count": null,
      "outputs": []
    },
    {
      "cell_type": "code",
      "metadata": {
        "id": "q0QD597qi90o"
      },
      "source": [
        "def computeCost(X, y, theta):\n",
        "    y1 = hypothesis(theta, X)\n",
        "    y1=np.sum(y1, axis=1) #Sum of the array elements (axis=1)column\n",
        "    return sum(np.sqrt((y1-y)**2))/(2*len(dataset))"
      ],
      "execution_count": null,
      "outputs": []
    },
    {
      "cell_type": "code",
      "metadata": {
        "id": "RBhVAm8rkWnd"
      },
      "source": [
        "def gradientDescent(X, y, theta, alpha, i):\n",
        "    J = []  #cost function in each iterations\n",
        "    k = 0\n",
        "    while k < i:        \n",
        "        y1 = hypothesis(theta, X)\n",
        "        y1 = np.sum(y1, axis=1)\n",
        "        for c in range(0, len(X.columns)):\n",
        "            theta[c] = theta[c] - alpha*(sum((y1-y)*X.iloc[:,c])/len(X))\n",
        "        j = computeCost(X, y, theta)\n",
        "        J.append(j)\n",
        "        k += 1\n",
        "    return J, j, theta"
      ],
      "execution_count": null,
      "outputs": []
    },
    {
      "cell_type": "code",
      "metadata": {
        "colab": {
          "base_uri": "https://localhost:8080/",
          "height": 419
        },
        "id": "zEn4AP5elUhd",
        "outputId": "1f596ffa-76d0-43e0-ee36-d7cda3d94aec"
      },
      "source": [
        "X"
      ],
      "execution_count": null,
      "outputs": [
        {
          "output_type": "execute_result",
          "data": {
            "text/html": [
              "<div>\n",
              "<style scoped>\n",
              "    .dataframe tbody tr th:only-of-type {\n",
              "        vertical-align: middle;\n",
              "    }\n",
              "\n",
              "    .dataframe tbody tr th {\n",
              "        vertical-align: top;\n",
              "    }\n",
              "\n",
              "    .dataframe thead th {\n",
              "        text-align: right;\n",
              "    }\n",
              "</style>\n",
              "<table border=\"1\" class=\"dataframe\">\n",
              "  <thead>\n",
              "    <tr style=\"text-align: right;\">\n",
              "      <th></th>\n",
              "      <th>0</th>\n",
              "      <th>1</th>\n",
              "      <th>2</th>\n",
              "      <th>3</th>\n",
              "      <th>4</th>\n",
              "    </tr>\n",
              "  </thead>\n",
              "  <tbody>\n",
              "    <tr>\n",
              "      <th>0</th>\n",
              "      <td>0.730594</td>\n",
              "      <td>0.013270</td>\n",
              "      <td>1.0</td>\n",
              "      <td>0.998736</td>\n",
              "      <td>121.54024</td>\n",
              "    </tr>\n",
              "    <tr>\n",
              "      <th>1</th>\n",
              "      <td>0.445205</td>\n",
              "      <td>0.047933</td>\n",
              "      <td>0.9</td>\n",
              "      <td>0.998631</td>\n",
              "      <td>121.53951</td>\n",
              "    </tr>\n",
              "    <tr>\n",
              "      <th>2</th>\n",
              "      <td>0.303653</td>\n",
              "      <td>0.087861</td>\n",
              "      <td>0.5</td>\n",
              "      <td>0.998915</td>\n",
              "      <td>121.54391</td>\n",
              "    </tr>\n",
              "    <tr>\n",
              "      <th>3</th>\n",
              "      <td>0.303653</td>\n",
              "      <td>0.087861</td>\n",
              "      <td>0.5</td>\n",
              "      <td>0.998915</td>\n",
              "      <td>121.54391</td>\n",
              "    </tr>\n",
              "    <tr>\n",
              "      <th>4</th>\n",
              "      <td>0.114155</td>\n",
              "      <td>0.061062</td>\n",
              "      <td>0.5</td>\n",
              "      <td>0.998592</td>\n",
              "      <td>121.54245</td>\n",
              "    </tr>\n",
              "    <tr>\n",
              "      <th>...</th>\n",
              "      <td>...</td>\n",
              "      <td>...</td>\n",
              "      <td>...</td>\n",
              "      <td>...</td>\n",
              "      <td>...</td>\n",
              "    </tr>\n",
              "    <tr>\n",
              "      <th>249</th>\n",
              "      <td>0.410959</td>\n",
              "      <td>0.985909</td>\n",
              "      <td>0.1</td>\n",
              "      <td>0.997715</td>\n",
              "      <td>121.47516</td>\n",
              "    </tr>\n",
              "    <tr>\n",
              "      <th>250</th>\n",
              "      <td>0.894977</td>\n",
              "      <td>0.066400</td>\n",
              "      <td>0.7</td>\n",
              "      <td>0.998389</td>\n",
              "      <td>121.53917</td>\n",
              "    </tr>\n",
              "    <tr>\n",
              "      <th>251</th>\n",
              "      <td>0.723744</td>\n",
              "      <td>0.181270</td>\n",
              "      <td>0.0</td>\n",
              "      <td>0.997402</td>\n",
              "      <td>121.53018</td>\n",
              "    </tr>\n",
              "    <tr>\n",
              "      <th>252</th>\n",
              "      <td>0.134703</td>\n",
              "      <td>0.014142</td>\n",
              "      <td>0.9</td>\n",
              "      <td>0.998391</td>\n",
              "      <td>121.54310</td>\n",
              "    </tr>\n",
              "    <tr>\n",
              "      <th>253</th>\n",
              "      <td>0.694064</td>\n",
              "      <td>0.271344</td>\n",
              "      <td>0.2</td>\n",
              "      <td>0.998003</td>\n",
              "      <td>121.51623</td>\n",
              "    </tr>\n",
              "  </tbody>\n",
              "</table>\n",
              "<p>254 rows × 5 columns</p>\n",
              "</div>"
            ],
            "text/plain": [
              "            0         1    2         3          4\n",
              "0    0.730594  0.013270  1.0  0.998736  121.54024\n",
              "1    0.445205  0.047933  0.9  0.998631  121.53951\n",
              "2    0.303653  0.087861  0.5  0.998915  121.54391\n",
              "3    0.303653  0.087861  0.5  0.998915  121.54391\n",
              "4    0.114155  0.061062  0.5  0.998592  121.54245\n",
              "..        ...       ...  ...       ...        ...\n",
              "249  0.410959  0.985909  0.1  0.997715  121.47516\n",
              "250  0.894977  0.066400  0.7  0.998389  121.53917\n",
              "251  0.723744  0.181270  0.0  0.997402  121.53018\n",
              "252  0.134703  0.014142  0.9  0.998391  121.54310\n",
              "253  0.694064  0.271344  0.2  0.998003  121.51623\n",
              "\n",
              "[254 rows x 5 columns]"
            ]
          },
          "metadata": {
            "tags": []
          },
          "execution_count": 21
        }
      ]
    },
    {
      "cell_type": "code",
      "metadata": {
        "colab": {
          "base_uri": "https://localhost:8080/"
        },
        "id": "fj_LXDU9nxsB",
        "outputId": "658b519b-9af5-46c7-a795-09b55af4840f"
      },
      "source": [
        "Y"
      ],
      "execution_count": null,
      "outputs": [
        {
          "output_type": "execute_result",
          "data": {
            "text/plain": [
              "0      37.9\n",
              "1      42.2\n",
              "2      47.3\n",
              "3      54.8\n",
              "4      43.1\n",
              "       ... \n",
              "249    15.0\n",
              "250    30.0\n",
              "251    13.8\n",
              "252    52.7\n",
              "253    25.9\n",
              "Name: Y house price of unit area, Length: 254, dtype: float64"
            ]
          },
          "metadata": {
            "tags": []
          },
          "execution_count": 22
        }
      ]
    },
    {
      "cell_type": "code",
      "metadata": {
        "colab": {
          "base_uri": "https://localhost:8080/"
        },
        "id": "ZYOMslPnnzuP",
        "outputId": "3dec28d8-9535-48aa-a76e-3e6010123b68"
      },
      "source": [
        "theta"
      ],
      "execution_count": null,
      "outputs": [
        {
          "output_type": "execute_result",
          "data": {
            "text/plain": [
              "array([0, 0, 0, 0, 0])"
            ]
          },
          "metadata": {
            "tags": []
          },
          "execution_count": 23
        }
      ]
    },
    {
      "cell_type": "code",
      "metadata": {
        "colab": {
          "base_uri": "https://localhost:8080/",
          "height": 282
        },
        "id": "JF1uwx1an30K",
        "outputId": "94ef8cb9-2cfd-48b7-deae-6256d450945c"
      },
      "source": [
        "J, j, theta = gradientDescent(X, Y, theta, 0.05, 100)"
      ],
      "execution_count": null,
      "outputs": [
        {
          "output_type": "error",
          "ename": "OverflowError",
          "evalue": "ignored",
          "traceback": [
            "\u001b[0;31m---------------------------------------------------------------------------\u001b[0m",
            "\u001b[0;31mOverflowError\u001b[0m                             Traceback (most recent call last)",
            "\u001b[0;32m<ipython-input-24-42d9ac75bcd2>\u001b[0m in \u001b[0;36m<module>\u001b[0;34m()\u001b[0m\n\u001b[0;32m----> 1\u001b[0;31m \u001b[0mJ\u001b[0m\u001b[0;34m,\u001b[0m \u001b[0mj\u001b[0m\u001b[0;34m,\u001b[0m \u001b[0mtheta\u001b[0m \u001b[0;34m=\u001b[0m \u001b[0mgradientDescent\u001b[0m\u001b[0;34m(\u001b[0m\u001b[0mX\u001b[0m\u001b[0;34m,\u001b[0m \u001b[0mY\u001b[0m\u001b[0;34m,\u001b[0m \u001b[0mtheta\u001b[0m\u001b[0;34m,\u001b[0m \u001b[0;36m0.05\u001b[0m\u001b[0;34m,\u001b[0m \u001b[0;36m100\u001b[0m\u001b[0;34m)\u001b[0m\u001b[0;34m\u001b[0m\u001b[0;34m\u001b[0m\u001b[0m\n\u001b[0m",
            "\u001b[0;32m<ipython-input-20-bfec0d0edcfa>\u001b[0m in \u001b[0;36mgradientDescent\u001b[0;34m(X, y, theta, alpha, i)\u001b[0m\n\u001b[1;32m      6\u001b[0m         \u001b[0my1\u001b[0m \u001b[0;34m=\u001b[0m \u001b[0mnp\u001b[0m\u001b[0;34m.\u001b[0m\u001b[0msum\u001b[0m\u001b[0;34m(\u001b[0m\u001b[0my1\u001b[0m\u001b[0;34m,\u001b[0m \u001b[0maxis\u001b[0m\u001b[0;34m=\u001b[0m\u001b[0;36m1\u001b[0m\u001b[0;34m)\u001b[0m\u001b[0;34m\u001b[0m\u001b[0;34m\u001b[0m\u001b[0m\n\u001b[1;32m      7\u001b[0m         \u001b[0;32mfor\u001b[0m \u001b[0mc\u001b[0m \u001b[0;32min\u001b[0m \u001b[0mrange\u001b[0m\u001b[0;34m(\u001b[0m\u001b[0;36m0\u001b[0m\u001b[0;34m,\u001b[0m \u001b[0mlen\u001b[0m\u001b[0;34m(\u001b[0m\u001b[0mX\u001b[0m\u001b[0;34m.\u001b[0m\u001b[0mcolumns\u001b[0m\u001b[0;34m)\u001b[0m\u001b[0;34m)\u001b[0m\u001b[0;34m:\u001b[0m\u001b[0;34m\u001b[0m\u001b[0;34m\u001b[0m\u001b[0m\n\u001b[0;32m----> 8\u001b[0;31m             \u001b[0mtheta\u001b[0m\u001b[0;34m[\u001b[0m\u001b[0mc\u001b[0m\u001b[0;34m]\u001b[0m \u001b[0;34m=\u001b[0m \u001b[0mtheta\u001b[0m\u001b[0;34m[\u001b[0m\u001b[0mc\u001b[0m\u001b[0;34m]\u001b[0m \u001b[0;34m-\u001b[0m \u001b[0malpha\u001b[0m\u001b[0;34m*\u001b[0m\u001b[0;34m(\u001b[0m\u001b[0msum\u001b[0m\u001b[0;34m(\u001b[0m\u001b[0;34m(\u001b[0m\u001b[0my1\u001b[0m\u001b[0;34m-\u001b[0m\u001b[0my\u001b[0m\u001b[0;34m)\u001b[0m\u001b[0;34m*\u001b[0m\u001b[0mX\u001b[0m\u001b[0;34m.\u001b[0m\u001b[0miloc\u001b[0m\u001b[0;34m[\u001b[0m\u001b[0;34m:\u001b[0m\u001b[0;34m,\u001b[0m\u001b[0mc\u001b[0m\u001b[0;34m]\u001b[0m\u001b[0;34m)\u001b[0m\u001b[0;34m/\u001b[0m\u001b[0mlen\u001b[0m\u001b[0;34m(\u001b[0m\u001b[0mX\u001b[0m\u001b[0;34m)\u001b[0m\u001b[0;34m)\u001b[0m\u001b[0;34m\u001b[0m\u001b[0;34m\u001b[0m\u001b[0m\n\u001b[0m\u001b[1;32m      9\u001b[0m         \u001b[0mj\u001b[0m \u001b[0;34m=\u001b[0m \u001b[0mcomputeCost\u001b[0m\u001b[0;34m(\u001b[0m\u001b[0mX\u001b[0m\u001b[0;34m,\u001b[0m \u001b[0my\u001b[0m\u001b[0;34m,\u001b[0m \u001b[0mtheta\u001b[0m\u001b[0;34m)\u001b[0m\u001b[0;34m\u001b[0m\u001b[0;34m\u001b[0m\u001b[0m\n\u001b[1;32m     10\u001b[0m         \u001b[0mJ\u001b[0m\u001b[0;34m.\u001b[0m\u001b[0mappend\u001b[0m\u001b[0;34m(\u001b[0m\u001b[0mj\u001b[0m\u001b[0;34m)\u001b[0m\u001b[0;34m\u001b[0m\u001b[0;34m\u001b[0m\u001b[0m\n",
            "\u001b[0;31mOverflowError\u001b[0m: Python int too large to convert to C long"
          ]
        }
      ]
    }
  ]
}